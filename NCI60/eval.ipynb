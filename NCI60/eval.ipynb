{
 "cells": [
  {
   "cell_type": "code",
   "execution_count": 1,
   "id": "3707b1dc-4779-481f-a47c-77aee9a45f33",
   "metadata": {},
   "outputs": [
    {
     "name": "stderr",
     "output_type": "stream",
     "text": [
      "/tmp/ipykernel_3148336/498669526.py:2: DeprecationWarning: \n",
      "Pyarrow will become a required dependency of pandas in the next major release of pandas (pandas 3.0),\n",
      "(to allow more performant data types, such as the Arrow string type, and better interoperability with other libraries)\n",
      "but was not found to be installed on your system.\n",
      "If this would cause problems for you,\n",
      "please provide us feedback at https://github.com/pandas-dev/pandas/issues/54466\n",
      "        \n",
      "  import pandas as pd\n"
     ]
    }
   ],
   "source": [
    "import numpy as np\n",
    "import pandas as pd\n",
    "from sklearn.metrics import (accuracy_score, average_precision_score,\n",
    "                             confusion_matrix, f1_score, fbeta_score,\n",
    "                             precision_score, recall_score, roc_auc_score)"
   ]
  },
  {
   "cell_type": "code",
   "execution_count": 2,
   "id": "aa7a8c3a-9cc0-42f0-9b2e-5d8d3c1c7e5d",
   "metadata": {},
   "outputs": [],
   "source": [
    "def calculate_metrics(\n",
    "    targets,\n",
    "    predictions,\n",
    "):\n",
    "    mask = ~np.isnan(predictions)\n",
    "    targets = targets[mask]\n",
    "    predictions = predictions[mask]\n",
    "\n",
    "    threshold = 0.5\n",
    "    predictions_binary = (predictions > threshold).astype(int)\n",
    "\n",
    "    accuracy = accuracy_score(targets, predictions_binary)\n",
    "    precision = precision_score(targets, predictions_binary)\n",
    "    recall = recall_score(targets, predictions_binary)\n",
    "    f1 = f1_score(targets, predictions_binary)\n",
    "    f2 = fbeta_score(targets, predictions_binary, beta=2)\n",
    "    specificity = recall_score(targets, predictions_binary, pos_label=0)\n",
    "    npv = precision_score(targets, predictions_binary, pos_label=0)\n",
    "\n",
    "    # Check if there are more than one class in targets to calculate AUC-ROC and AUC-PR\n",
    "    if len(np.unique(targets)) > 1:\n",
    "        auc_roc = roc_auc_score(targets, predictions)\n",
    "        auc_pr = average_precision_score(targets, predictions)\n",
    "    else:\n",
    "        print(\"Only one class in targets. Cannot calculate AUC-ROC and AUC-PR.\")\n",
    "        auc_roc = None\n",
    "        auc_pr = None\n",
    "\n",
    "    return {\n",
    "        \"accuracy\": accuracy,\n",
    "        \"precision\": precision,\n",
    "        \"recall\": recall,\n",
    "        \"f1\": f1,\n",
    "        \"f2\": f2,\n",
    "        \"AUC-ROC\": auc_roc,\n",
    "        \"AUC-PR\": auc_pr,\n",
    "        \"Specificity\": specificity,\n",
    "        \"NPV\": npv,\n",
    "    }"
   ]
  },
  {
   "cell_type": "code",
   "execution_count": 16,
   "id": "40f6168b-177c-45de-870c-340a19606804",
   "metadata": {},
   "outputs": [
    {
     "name": "stderr",
     "output_type": "stream",
     "text": [
      "/data/inouey2/conda/lib/python3.10/site-packages/sklearn/metrics/_classification.py:1509: UndefinedMetricWarning: Precision is ill-defined and being set to 0.0 due to no predicted samples. Use `zero_division` parameter to control this behavior.\n",
      "  _warn_prf(average, modifier, f\"{metric.capitalize()} is\", len(result))\n",
      "/data/inouey2/conda/lib/python3.10/site-packages/sklearn/metrics/_classification.py:1509: UndefinedMetricWarning: Precision is ill-defined and being set to 0.0 due to no predicted samples. Use `zero_division` parameter to control this behavior.\n",
      "  _warn_prf(average, modifier, f\"{metric.capitalize()} is\", len(result))\n",
      "/data/inouey2/conda/lib/python3.10/site-packages/sklearn/metrics/_classification.py:1509: UndefinedMetricWarning: Precision is ill-defined and being set to 0.0 due to no predicted samples. Use `zero_division` parameter to control this behavior.\n",
      "  _warn_prf(average, modifier, f\"{metric.capitalize()} is\", len(result))\n",
      "/data/inouey2/conda/lib/python3.10/site-packages/sklearn/metrics/_classification.py:1509: UndefinedMetricWarning: Precision is ill-defined and being set to 0.0 due to no predicted samples. Use `zero_division` parameter to control this behavior.\n",
      "  _warn_prf(average, modifier, f\"{metric.capitalize()} is\", len(result))\n",
      "/data/inouey2/conda/lib/python3.10/site-packages/sklearn/metrics/_classification.py:1509: UndefinedMetricWarning: Precision is ill-defined and being set to 0.0 due to no predicted samples. Use `zero_division` parameter to control this behavior.\n",
      "  _warn_prf(average, modifier, f\"{metric.capitalize()} is\", len(result))\n",
      "/data/inouey2/conda/lib/python3.10/site-packages/sklearn/metrics/_classification.py:1509: UndefinedMetricWarning: Precision is ill-defined and being set to 0.0 due to no predicted samples. Use `zero_division` parameter to control this behavior.\n",
      "  _warn_prf(average, modifier, f\"{metric.capitalize()} is\", len(result))\n",
      "/data/inouey2/conda/lib/python3.10/site-packages/sklearn/metrics/_classification.py:1509: UndefinedMetricWarning: Precision is ill-defined and being set to 0.0 due to no predicted samples. Use `zero_division` parameter to control this behavior.\n",
      "  _warn_prf(average, modifier, f\"{metric.capitalize()} is\", len(result))\n",
      "/data/inouey2/conda/lib/python3.10/site-packages/sklearn/metrics/_classification.py:1509: UndefinedMetricWarning: Precision is ill-defined and being set to 0.0 due to no predicted samples. Use `zero_division` parameter to control this behavior.\n",
      "  _warn_prf(average, modifier, f\"{metric.capitalize()} is\", len(result))\n",
      "/data/inouey2/conda/lib/python3.10/site-packages/sklearn/metrics/_classification.py:1509: UndefinedMetricWarning: Precision is ill-defined and being set to 0.0 due to no predicted samples. Use `zero_division` parameter to control this behavior.\n",
      "  _warn_prf(average, modifier, f\"{metric.capitalize()} is\", len(result))\n",
      "/data/inouey2/conda/lib/python3.10/site-packages/sklearn/metrics/_classification.py:1509: UndefinedMetricWarning: Precision is ill-defined and being set to 0.0 due to no predicted samples. Use `zero_division` parameter to control this behavior.\n",
      "  _warn_prf(average, modifier, f\"{metric.capitalize()} is\", len(result))\n"
     ]
    },
    {
     "name": "stdout",
     "output_type": "stream",
     "text": [
      "{'accuracy': 0.8433905782259336, 'precision': 0.8433905782259336, 'recall': 1.0, 'f1': 0.915042735042735, 'f2': 0.9641917936525091, 'AUC-ROC': 0.6254402935453183, 'AUC-PR': 0.8904013476802419, 'Specificity': 0.0, 'NPV': 0.0}\n",
      "{'accuracy': 0.8433905782259336, 'precision': 0.8433905782259336, 'recall': 1.0, 'f1': 0.915042735042735, 'f2': 0.9641917936525091, 'AUC-ROC': 0.6254402935453183, 'AUC-PR': 0.8904013476802419, 'Specificity': 0.0, 'NPV': 0.0}\n",
      "{'accuracy': 0.8433905782259336, 'precision': 0.8433905782259336, 'recall': 1.0, 'f1': 0.915042735042735, 'f2': 0.9641917936525091, 'AUC-ROC': 0.6254402935453183, 'AUC-PR': 0.8904013476802419, 'Specificity': 0.0, 'NPV': 0.0}\n",
      "{'accuracy': 0.8433905782259336, 'precision': 0.8433905782259336, 'recall': 1.0, 'f1': 0.915042735042735, 'f2': 0.9641917936525091, 'AUC-ROC': 0.6254402935453183, 'AUC-PR': 0.8904013476802419, 'Specificity': 0.0, 'NPV': 0.0}\n",
      "{'accuracy': 0.8433905782259336, 'precision': 0.8433905782259336, 'recall': 1.0, 'f1': 0.915042735042735, 'f2': 0.9641917936525091, 'AUC-ROC': 0.6254402935453183, 'AUC-PR': 0.8904013476802419, 'Specificity': 0.0, 'NPV': 0.0}\n",
      "{'accuracy': 0.8433905782259336, 'precision': 0.8433905782259336, 'recall': 1.0, 'f1': 0.915042735042735, 'f2': 0.9641917936525091, 'AUC-ROC': 0.6254402935453183, 'AUC-PR': 0.8904013476802419, 'Specificity': 0.0, 'NPV': 0.0}\n",
      "{'accuracy': 0.8433905782259336, 'precision': 0.8433905782259336, 'recall': 1.0, 'f1': 0.915042735042735, 'f2': 0.9641917936525091, 'AUC-ROC': 0.6254402935453183, 'AUC-PR': 0.8904013476802419, 'Specificity': 0.0, 'NPV': 0.0}\n",
      "{'accuracy': 0.8433905782259336, 'precision': 0.8433905782259336, 'recall': 1.0, 'f1': 0.915042735042735, 'f2': 0.9641917936525091, 'AUC-ROC': 0.6254402935453183, 'AUC-PR': 0.8904013476802419, 'Specificity': 0.0, 'NPV': 0.0}\n",
      "{'accuracy': 0.8433905782259336, 'precision': 0.8433905782259336, 'recall': 1.0, 'f1': 0.915042735042735, 'f2': 0.9641917936525091, 'AUC-ROC': 0.6254402935453183, 'AUC-PR': 0.8904013476802419, 'Specificity': 0.0, 'NPV': 0.0}\n",
      "{'accuracy': 0.8433905782259336, 'precision': 0.8433905782259336, 'recall': 1.0, 'f1': 0.915042735042735, 'f2': 0.9641917936525091, 'AUC-ROC': 0.6254402935453183, 'AUC-PR': 0.8904013476802419, 'Specificity': 0.0, 'NPV': 0.0}\n"
     ]
    },
    {
     "name": "stderr",
     "output_type": "stream",
     "text": [
      "/data/inouey2/conda/lib/python3.10/site-packages/sklearn/metrics/_classification.py:1509: UndefinedMetricWarning: Precision is ill-defined and being set to 0.0 due to no predicted samples. Use `zero_division` parameter to control this behavior.\n",
      "  _warn_prf(average, modifier, f\"{metric.capitalize()} is\", len(result))\n",
      "/data/inouey2/conda/lib/python3.10/site-packages/sklearn/metrics/_classification.py:1509: UndefinedMetricWarning: Precision is ill-defined and being set to 0.0 due to no predicted samples. Use `zero_division` parameter to control this behavior.\n",
      "  _warn_prf(average, modifier, f\"{metric.capitalize()} is\", len(result))\n",
      "/data/inouey2/conda/lib/python3.10/site-packages/sklearn/metrics/_classification.py:1509: UndefinedMetricWarning: Precision is ill-defined and being set to 0.0 due to no predicted samples. Use `zero_division` parameter to control this behavior.\n",
      "  _warn_prf(average, modifier, f\"{metric.capitalize()} is\", len(result))\n",
      "/data/inouey2/conda/lib/python3.10/site-packages/sklearn/metrics/_classification.py:1509: UndefinedMetricWarning: Precision is ill-defined and being set to 0.0 due to no predicted samples. Use `zero_division` parameter to control this behavior.\n",
      "  _warn_prf(average, modifier, f\"{metric.capitalize()} is\", len(result))\n",
      "/data/inouey2/conda/lib/python3.10/site-packages/sklearn/metrics/_classification.py:1509: UndefinedMetricWarning: Precision is ill-defined and being set to 0.0 due to no predicted samples. Use `zero_division` parameter to control this behavior.\n",
      "  _warn_prf(average, modifier, f\"{metric.capitalize()} is\", len(result))\n",
      "/data/inouey2/conda/lib/python3.10/site-packages/sklearn/metrics/_classification.py:1509: UndefinedMetricWarning: Precision is ill-defined and being set to 0.0 due to no predicted samples. Use `zero_division` parameter to control this behavior.\n",
      "  _warn_prf(average, modifier, f\"{metric.capitalize()} is\", len(result))\n",
      "/data/inouey2/conda/lib/python3.10/site-packages/sklearn/metrics/_classification.py:1509: UndefinedMetricWarning: Precision is ill-defined and being set to 0.0 due to no predicted samples. Use `zero_division` parameter to control this behavior.\n",
      "  _warn_prf(average, modifier, f\"{metric.capitalize()} is\", len(result))\n",
      "/data/inouey2/conda/lib/python3.10/site-packages/sklearn/metrics/_classification.py:1509: UndefinedMetricWarning: Precision is ill-defined and being set to 0.0 due to no predicted samples. Use `zero_division` parameter to control this behavior.\n",
      "  _warn_prf(average, modifier, f\"{metric.capitalize()} is\", len(result))\n",
      "/data/inouey2/conda/lib/python3.10/site-packages/sklearn/metrics/_classification.py:1509: UndefinedMetricWarning: Precision is ill-defined and being set to 0.0 due to no predicted samples. Use `zero_division` parameter to control this behavior.\n",
      "  _warn_prf(average, modifier, f\"{metric.capitalize()} is\", len(result))\n",
      "/data/inouey2/conda/lib/python3.10/site-packages/sklearn/metrics/_classification.py:1509: UndefinedMetricWarning: Precision is ill-defined and being set to 0.0 due to no predicted samples. Use `zero_division` parameter to control this behavior.\n",
      "  _warn_prf(average, modifier, f\"{metric.capitalize()} is\", len(result))\n"
     ]
    },
    {
     "name": "stdout",
     "output_type": "stream",
     "text": [
      "{'accuracy': 0.8433905782259336, 'precision': 0.8433905782259336, 'recall': 1.0, 'f1': 0.915042735042735, 'f2': 0.9641917936525091, 'AUC-ROC': 0.6254402935453183, 'AUC-PR': 0.8904013476802419, 'Specificity': 0.0, 'NPV': 0.0}\n",
      "{'accuracy': 0.8433905782259336, 'precision': 0.8433905782259336, 'recall': 1.0, 'f1': 0.915042735042735, 'f2': 0.9641917936525091, 'AUC-ROC': 0.6254402935453183, 'AUC-PR': 0.8904013476802419, 'Specificity': 0.0, 'NPV': 0.0}\n",
      "{'accuracy': 0.8433905782259336, 'precision': 0.8433905782259336, 'recall': 1.0, 'f1': 0.915042735042735, 'f2': 0.9641917936525091, 'AUC-ROC': 0.6254402935453183, 'AUC-PR': 0.8904013476802419, 'Specificity': 0.0, 'NPV': 0.0}\n",
      "{'accuracy': 0.8433905782259336, 'precision': 0.8433905782259336, 'recall': 1.0, 'f1': 0.915042735042735, 'f2': 0.9641917936525091, 'AUC-ROC': 0.6254402935453183, 'AUC-PR': 0.8904013476802419, 'Specificity': 0.0, 'NPV': 0.0}\n",
      "{'accuracy': 0.8433905782259336, 'precision': 0.8433905782259336, 'recall': 1.0, 'f1': 0.915042735042735, 'f2': 0.9641917936525091, 'AUC-ROC': 0.6254402935453183, 'AUC-PR': 0.8904013476802419, 'Specificity': 0.0, 'NPV': 0.0}\n",
      "{'accuracy': 0.8433905782259336, 'precision': 0.8433905782259336, 'recall': 1.0, 'f1': 0.915042735042735, 'f2': 0.9641917936525091, 'AUC-ROC': 0.6254402935453183, 'AUC-PR': 0.8904013476802419, 'Specificity': 0.0, 'NPV': 0.0}\n",
      "{'accuracy': 0.8433905782259336, 'precision': 0.8433905782259336, 'recall': 1.0, 'f1': 0.915042735042735, 'f2': 0.9641917936525091, 'AUC-ROC': 0.6254402935453183, 'AUC-PR': 0.8904013476802419, 'Specificity': 0.0, 'NPV': 0.0}\n",
      "{'accuracy': 0.8433905782259336, 'precision': 0.8433905782259336, 'recall': 1.0, 'f1': 0.915042735042735, 'f2': 0.9641917936525091, 'AUC-ROC': 0.6254402935453183, 'AUC-PR': 0.8904013476802419, 'Specificity': 0.0, 'NPV': 0.0}\n",
      "{'accuracy': 0.8433905782259336, 'precision': 0.8433905782259336, 'recall': 1.0, 'f1': 0.915042735042735, 'f2': 0.9641917936525091, 'AUC-ROC': 0.6254402935453183, 'AUC-PR': 0.8904013476802419, 'Specificity': 0.0, 'NPV': 0.0}\n",
      "{'accuracy': 0.8433905782259336, 'precision': 0.8433905782259336, 'recall': 1.0, 'f1': 0.915042735042735, 'f2': 0.9641917936525091, 'AUC-ROC': 0.6254402935453183, 'AUC-PR': 0.8904013476802419, 'Specificity': 0.0, 'NPV': 0.0}\n",
      "{'accuracy': 0.8433905782259336, 'precision': 0.8433905782259336, 'recall': 1.0, 'f1': 0.915042735042735, 'f2': 0.9641917936525091, 'AUC-ROC': 0.6254402935453183, 'AUC-PR': 0.8904013476802419, 'Specificity': 0.0, 'NPV': 0.0}\n",
      "{'accuracy': 0.8433905782259336, 'precision': 0.8433905782259336, 'recall': 1.0, 'f1': 0.915042735042735, 'f2': 0.9641917936525091, 'AUC-ROC': 0.6254402935453183, 'AUC-PR': 0.8904013476802419, 'Specificity': 0.0, 'NPV': 0.0}\n",
      "{'accuracy': 0.8433905782259336, 'precision': 0.8433905782259336, 'recall': 1.0, 'f1': 0.915042735042735, 'f2': 0.9641917936525091, 'AUC-ROC': 0.6254402935453183, 'AUC-PR': 0.8904013476802419, 'Specificity': 0.0, 'NPV': 0.0}\n",
      "{'accuracy': 0.8433905782259336, 'precision': 0.8433905782259336, 'recall': 1.0, 'f1': 0.915042735042735, 'f2': 0.9641917936525091, 'AUC-ROC': 0.6254402935453183, 'AUC-PR': 0.8904013476802419, 'Specificity': 0.0, 'NPV': 0.0}\n",
      "{'accuracy': 0.8433905782259336, 'precision': 0.8433905782259336, 'recall': 1.0, 'f1': 0.915042735042735, 'f2': 0.9641917936525091, 'AUC-ROC': 0.6254402935453183, 'AUC-PR': 0.8904013476802419, 'Specificity': 0.0, 'NPV': 0.0}\n"
     ]
    },
    {
     "name": "stderr",
     "output_type": "stream",
     "text": [
      "/data/inouey2/conda/lib/python3.10/site-packages/sklearn/metrics/_classification.py:1509: UndefinedMetricWarning: Precision is ill-defined and being set to 0.0 due to no predicted samples. Use `zero_division` parameter to control this behavior.\n",
      "  _warn_prf(average, modifier, f\"{metric.capitalize()} is\", len(result))\n",
      "/data/inouey2/conda/lib/python3.10/site-packages/sklearn/metrics/_classification.py:1509: UndefinedMetricWarning: Precision is ill-defined and being set to 0.0 due to no predicted samples. Use `zero_division` parameter to control this behavior.\n",
      "  _warn_prf(average, modifier, f\"{metric.capitalize()} is\", len(result))\n",
      "/data/inouey2/conda/lib/python3.10/site-packages/sklearn/metrics/_classification.py:1509: UndefinedMetricWarning: Precision is ill-defined and being set to 0.0 due to no predicted samples. Use `zero_division` parameter to control this behavior.\n",
      "  _warn_prf(average, modifier, f\"{metric.capitalize()} is\", len(result))\n",
      "/data/inouey2/conda/lib/python3.10/site-packages/sklearn/metrics/_classification.py:1509: UndefinedMetricWarning: Precision is ill-defined and being set to 0.0 due to no predicted samples. Use `zero_division` parameter to control this behavior.\n",
      "  _warn_prf(average, modifier, f\"{metric.capitalize()} is\", len(result))\n",
      "/data/inouey2/conda/lib/python3.10/site-packages/sklearn/metrics/_classification.py:1509: UndefinedMetricWarning: Precision is ill-defined and being set to 0.0 due to no predicted samples. Use `zero_division` parameter to control this behavior.\n",
      "  _warn_prf(average, modifier, f\"{metric.capitalize()} is\", len(result))\n"
     ]
    }
   ],
   "source": [
    "path = 'result_data_22390/'\n",
    "\n",
    "true = pd.read_csv(f\"{path}/true_data.csv\", index_col=0)\n",
    "pred = pd.read_csv(f\"{path}/predict_data.csv\", index_col=0)\n",
    "for i in range(len(true)):\n",
    "    print(calculate_metrics(\n",
    "        true.loc[0],\n",
    "        pred.loc[0],\n",
    "    ))"
   ]
  },
  {
   "cell_type": "code",
   "execution_count": 20,
   "id": "12bbbef9-e8fb-4ac8-9ee2-137b08546c11",
   "metadata": {},
   "outputs": [
    {
     "data": {
      "text/plain": [
       "5353"
      ]
     },
     "execution_count": 20,
     "metadata": {},
     "output_type": "execute_result"
    }
   ],
   "source": [
    "np.sum(pd.read_csv(\"result_data_22390/true_data.csv\", index_col=0).loc[0] == 1)"
   ]
  },
  {
   "cell_type": "code",
   "execution_count": 22,
   "id": "ba96f3b3-88c7-4974-9b3a-9b0f5bcda470",
   "metadata": {},
   "outputs": [
    {
     "data": {
      "text/plain": [
       "994"
      ]
     },
     "execution_count": 22,
     "metadata": {},
     "output_type": "execute_result"
    }
   ],
   "source": [
    "np.sum(pd.read_csv(\"result_data_22390/true_data.csv\", index_col=0).loc[0] != 1)"
   ]
  },
  {
   "cell_type": "code",
   "execution_count": 26,
   "id": "4c44c7b4-afe4-417b-90ed-5acb7b5713d7",
   "metadata": {},
   "outputs": [
    {
     "data": {
      "text/plain": [
       "6347"
      ]
     },
     "execution_count": 26,
     "metadata": {},
     "output_type": "execute_result"
    }
   ],
   "source": [
    "np.sum(pd.read_csv(f\"{path}/predict_data.csv\", index_col=0).loc[0].round() == 1)"
   ]
  },
  {
   "cell_type": "code",
   "execution_count": 27,
   "id": "b5377a45-a959-4c71-b32d-0a35f2f9e266",
   "metadata": {},
   "outputs": [
    {
     "data": {
      "text/plain": [
       "0"
      ]
     },
     "execution_count": 27,
     "metadata": {},
     "output_type": "execute_result"
    }
   ],
   "source": [
    "np.sum(pd.read_csv(f\"{path}/predict_data.csv\", index_col=0).loc[0].round() != 1)"
   ]
  },
  {
   "cell_type": "code",
   "execution_count": 31,
   "id": "3d5d883a-3978-4ecb-a1cb-a8639671779b",
   "metadata": {},
   "outputs": [
    {
     "data": {
      "text/plain": [
       "5353"
      ]
     },
     "execution_count": 31,
     "metadata": {},
     "output_type": "execute_result"
    }
   ],
   "source": [
    "np.sum(pd.read_csv(\"result_data_22390/true_data.csv\", index_col=0).loc[0] == 1)"
   ]
  },
  {
   "cell_type": "code",
   "execution_count": 33,
   "id": "46c6c916-7d47-47e7-94f8-9fe3c2438f6d",
   "metadata": {},
   "outputs": [
    {
     "data": {
      "text/plain": [
       "6347"
      ]
     },
     "execution_count": 33,
     "metadata": {},
     "output_type": "execute_result"
    }
   ],
   "source": [
    "np.sum(pd.read_csv(\"result_data_22390/predict_data.csv\", index_col=0).loc[0].round() == 1)"
   ]
  },
  {
   "cell_type": "code",
   "execution_count": 34,
   "id": "9638e65e-fc57-4efb-9517-fd63f089cee1",
   "metadata": {},
   "outputs": [
    {
     "name": "stderr",
     "output_type": "stream",
     "text": [
      "/data/inouey2/conda/lib/python3.10/site-packages/sklearn/metrics/_classification.py:1509: UndefinedMetricWarning: Precision is ill-defined and being set to 0.0 due to no predicted samples. Use `zero_division` parameter to control this behavior.\n",
      "  _warn_prf(average, modifier, f\"{metric.capitalize()} is\", len(result))\n"
     ]
    },
    {
     "data": {
      "text/plain": [
       "{'accuracy': 0.8433905782259336,\n",
       " 'precision': 0.8433905782259336,\n",
       " 'recall': 1.0,\n",
       " 'f1': 0.915042735042735,\n",
       " 'f2': 0.9641917936525091,\n",
       " 'AUC-ROC': 0.6254402935453183,\n",
       " 'AUC-PR': 0.8904013476802419,\n",
       " 'Specificity': 0.0,\n",
       " 'NPV': 0.0}"
      ]
     },
     "execution_count": 34,
     "metadata": {},
     "output_type": "execute_result"
    }
   ],
   "source": [
    "calculate_metrics(\n",
    "    pd.read_csv(\"result_data_22390/true_data.csv\", index_col=0).loc[0],\n",
    "    pd.read_csv(\"result_data_22390/predict_data.csv\", index_col=0).loc[0],\n",
    ")"
   ]
  },
  {
   "cell_type": "code",
   "execution_count": null,
   "id": "1d2a501b-e1ac-4126-84f5-17a10d36c686",
   "metadata": {},
   "outputs": [],
   "source": []
  }
 ],
 "metadata": {
  "kernelspec": {
   "display_name": "Python 3 (ipykernel)",
   "language": "python",
   "name": "python3"
  },
  "language_info": {
   "codemirror_mode": {
    "name": "ipython",
    "version": 3
   },
   "file_extension": ".py",
   "mimetype": "text/x-python",
   "name": "python",
   "nbconvert_exporter": "python",
   "pygments_lexer": "ipython3",
   "version": "3.10.13"
  }
 },
 "nbformat": 4,
 "nbformat_minor": 5
}
